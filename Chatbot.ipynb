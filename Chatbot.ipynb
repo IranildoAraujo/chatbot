{
  "nbformat": 4,
  "nbformat_minor": 0,
  "metadata": {
    "colab": {
      "provenance": [],
      "authorship_tag": "ABX9TyP//Xxe9IpivpLsc9N1gLDz",
      "include_colab_link": true
    },
    "kernelspec": {
      "name": "python3",
      "display_name": "Python 3"
    },
    "language_info": {
      "name": "python"
    }
  },
  "cells": [
    {
      "cell_type": "markdown",
      "metadata": {
        "id": "view-in-github",
        "colab_type": "text"
      },
      "source": [
        "<a href=\"https://colab.research.google.com/github/IranildoAraujo/chatbot/blob/main/Chatbot.ipynb\" target=\"_parent\"><img src=\"https://colab.research.google.com/assets/colab-badge.svg\" alt=\"Open In Colab\"/></a>"
      ]
    },
    {
      "cell_type": "code",
      "execution_count": 18,
      "metadata": {
        "id": "NBfRU46uKD71"
      },
      "outputs": [],
      "source": [
        "import google.generativeai as genai\n",
        "from google.colab import userdata\n",
        "api_key = userdata.get('API_KEY')\n",
        "genai.configure(api_key=api_key)"
      ]
    },
    {
      "cell_type": "code",
      "source": [
        "for m in genai.list_models():\n",
        "   if 'generateContent' in m.supported_generation_methods:\n",
        "\t    print(m.name)"
      ],
      "metadata": {
        "colab": {
          "base_uri": "https://localhost:8080/",
          "height": 138
        },
        "id": "Hu3e4dtfKkUu",
        "outputId": "b245022b-4e7a-4aa3-ecec-8db9b960ae9c"
      },
      "execution_count": 19,
      "outputs": [
        {
          "output_type": "stream",
          "name": "stdout",
          "text": [
            "models/gemini-1.0-pro\n",
            "models/gemini-1.0-pro-001\n",
            "models/gemini-1.0-pro-latest\n",
            "models/gemini-1.0-pro-vision-latest\n",
            "models/gemini-1.5-pro-latest\n",
            "models/gemini-pro\n",
            "models/gemini-pro-vision\n"
          ]
        }
      ]
    },
    {
      "cell_type": "code",
      "source": [
        "config_ai = {\n",
        "    \"candidate_count\": 1,\n",
        "    \"temperature\": 0.5,\n",
        "    \"max_output_tokens\": 1000,\n",
        "}"
      ],
      "metadata": {
        "id": "rIxOzgnufNEf"
      },
      "execution_count": 20,
      "outputs": []
    },
    {
      "cell_type": "code",
      "source": [
        "safety_configuracoes = {\n",
        "    \"HARASSMENT\": \"BLOCK_NONE\",\n",
        "    \"HATE\": \"BLOCK_NONE\",\n",
        "    \"SEXUAL\": \"BLOCK_NONE\",\n",
        "    \"DANGEROUS\": \"BLOCK_NONE\",\n",
        "}"
      ],
      "metadata": {
        "id": "c7HJsmsVfSM6"
      },
      "execution_count": 21,
      "outputs": []
    },
    {
      "cell_type": "code",
      "source": [
        "model = genai.GenerativeModel(\n",
        "\tmodel_name=\"gemini-1.0-pro\",\n",
        "\tgeneration_config=config_ai,\n",
        "\tsafety_settings=safety_configuracoes\n",
        ")"
      ],
      "metadata": {
        "id": "1BzyaAiRfXTv"
      },
      "execution_count": 22,
      "outputs": []
    },
    {
      "cell_type": "code",
      "source": [
        "response = model.generate_content(\"Exemplifique como fazer agrupamento usando Kotlin\")\n",
        "print(response.text)"
      ],
      "metadata": {
        "colab": {
          "base_uri": "https://localhost:8080/",
          "height": 1000
        },
        "id": "tlG9wWErhpNb",
        "outputId": "7678108e-c0f6-428d-9efa-8b925efc0bfa"
      },
      "execution_count": 23,
      "outputs": [
        {
          "output_type": "stream",
          "name": "stdout",
          "text": [
            "**Agrupamento por uma única chave**\n",
            "\n",
            "```kotlin\n",
            "val groupedData = data.groupBy { it.key }\n",
            "```\n",
            "\n",
            "**Agrupamento por várias chaves**\n",
            "\n",
            "```kotlin\n",
            "val groupedData = data.groupBy({ it.key1 }, { it.key2 })\n",
            "```\n",
            "\n",
            "**Agrupamento com uma função de agregação**\n",
            "\n",
            "```kotlin\n",
            "val groupedData = data.groupBy { it.key }\n",
            "    .mapValues { (_, values) -> values.sum() }\n",
            "```\n",
            "\n",
            "**Agrupamento com uma função de transformação**\n",
            "\n",
            "```kotlin\n",
            "val groupedData = data.groupBy { it.key }\n",
            "    .mapValues { (_, values) -> values.map { it.transformedValue } }\n",
            "```\n",
            "\n",
            "**Agrupamento com uma função de filtragem**\n",
            "\n",
            "```kotlin\n",
            "val groupedData = data.groupBy { it.key }\n",
            "    .filterValues { it.size > 10 }\n",
            "```\n",
            "\n",
            "**Exemplo completo**\n",
            "\n",
            "```kotlin\n",
            "data class Person(val name: String, val age: Int)\n",
            "\n",
            "val data = listOf(\n",
            "    Person(\"Alice\", 25),\n",
            "    Person(\"Bob\", 30),\n",
            "    Person(\"Carol\", 28),\n",
            "    Person(\"Dave\", 32),\n",
            "    Person(\"Eve\", 26)\n",
            ")\n",
            "\n",
            "val groupedData = data.groupBy { it.age }\n",
            "    .mapValues { (_, values) -> values.map { it.name } }\n",
            "\n",
            "println(groupedData)\n",
            "```\n",
            "\n",
            "Saída:\n",
            "\n",
            "```\n",
            "{25=[Alice, Eve], 28=[Carol], 30=[Bob], 32=[Dave]}\n",
            "```\n"
          ]
        }
      ]
    },
    {
      "cell_type": "code",
      "source": [
        "batePapo = model.start_chat(history=[])"
      ],
      "metadata": {
        "id": "zzJP9emOrARb"
      },
      "execution_count": null,
      "outputs": []
    },
    {
      "cell_type": "code",
      "source": [
        "# Uma entrada fora do while\n",
        "entrada = input(\"Esperando entrada: \")\n",
        "\n",
        "while entrada != \"fim\":\n",
        "    response = batePapo.send_message(entrada)\n",
        "    print(\"Resposta: \", response.text, \"\\n\")\n",
        "# Outra entrada dentro do while para não cair no loop infinito\n",
        "    entrada = input(\"Esperando entrada: \")"
      ],
      "metadata": {
        "colab": {
          "base_uri": "https://localhost:8080/",
          "height": 434
        },
        "id": "MSErGHV1rTWI",
        "outputId": "e561acb8-4830-4a9f-e076-bbec887fcd4d"
      },
      "execution_count": null,
      "outputs": [
        {
          "name": "stdout",
          "output_type": "stream",
          "text": [
            "Esperando entrada: Exemplifique como customizar um ícones com imagem png convertendo em minitype, usando typeScript\n",
            "Resposta:  ```typescript\n",
            "import { Component, OnInit } from '@angular/core';\n",
            "\n",
            "@Component({\n",
            "  selector: 'app-custom-icon',\n",
            "  templateUrl: './custom-icon.component.html',\n",
            "  styleUrls: ['./custom-icon.component.scss']\n",
            "})\n",
            "export class CustomIconComponent implements OnInit {\n",
            "\n",
            "  customIcon: string;\n",
            "\n",
            "  constructor() { }\n",
            "\n",
            "  ngOnInit(): void {\n",
            "    // Carrega a imagem PNG como um ícone personalizado\n",
            "    this.customIcon = `url(assets/icons/my-custom-icon.png)`;\n",
            "  }\n",
            "\n",
            "}\n",
            "``` \n",
            "\n",
            "Esperando entrada: fim\n"
          ]
        }
      ]
    },
    {
      "cell_type": "code",
      "source": [
        "#Melhorando a visualização\n",
        "#Código disponível em https://ai.google.dev/tutorials/python_quickstart#import_packages\n",
        "import textwrap\n",
        "from IPython.display import display\n",
        "from IPython.display import Markdown\n",
        "\n",
        "def to_markdown(text):\n",
        "  text = text.replace('\"', '*')\n",
        "  return Markdown(textwrap.indent(text, '> ', predicate=lambda _: True))\n",
        "\n",
        "#Imprimindo o histórico\n",
        "for message in batePapo.history:\n",
        "  display(to_markdown(f\"**{message.role}**: {message.parts[0].text}\"))\n",
        "print('--------------------------------------------------')"
      ],
      "metadata": {
        "colab": {
          "base_uri": "https://localhost:8080/",
          "height": 245
        },
        "id": "IjxEzGfMsEqO",
        "outputId": "4565394c-c48a-4602-e160-2ceebdc3cc71"
      },
      "execution_count": null,
      "outputs": [
        {
          "output_type": "display_data",
          "data": {
            "text/plain": [
              "<IPython.core.display.Markdown object>"
            ],
            "text/markdown": "> **user**: Exemplifique como customizar um ícones com imagem png convertendo em minitype, usando typeScript"
          },
          "metadata": {}
        },
        {
          "output_type": "display_data",
          "data": {
            "text/plain": [
              "<IPython.core.display.Markdown object>"
            ],
            "text/markdown": "> **model**: ```typescript\n> import { Component, OnInit } from '@angular/core';\n> \n> @Component({\n>   selector: 'app-custom-icon',\n>   templateUrl: './custom-icon.component.html',\n>   styleUrls: ['./custom-icon.component.scss']\n> })\n> export class CustomIconComponent implements OnInit {\n> \n>   customIcon: string;\n> \n>   constructor() { }\n> \n>   ngOnInit(): void {\n>     // Carrega a imagem PNG como um ícone personalizado\n>     this.customIcon = `url(assets/icons/my-custom-icon.png)`;\n>   }\n> \n> }\n> ```"
          },
          "metadata": {}
        },
        {
          "output_type": "stream",
          "name": "stdout",
          "text": [
            "--------------------------------------------------\n"
          ]
        }
      ]
    }
  ]
}